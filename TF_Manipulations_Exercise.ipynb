{
 "cells": [
  {
   "cell_type": "code",
   "execution_count": 1,
   "id": "acf111f5",
   "metadata": {},
   "outputs": [],
   "source": [
    "# Questions:\n",
    "\n",
    "# 1. Write a pice of code to generate the following output:\n",
    "#    array([[0.,0.],\n",
    "#           [1.,1.]], dtype=float32)\n",
    "\n",
    "# 2. What is the code snippet for creating  a rank-3 tensor of ones with 3 rows and 2 columns?\n",
    "\n",
    "# 3. How will you generate the following output? Create a code snippet for the same.\n",
    "#    array([[22,34],\n",
    "#           [46,74]], dtype=int32)\n",
    "\n",
    "# 4. Suppose you created a rank-3 tf array as follows:\n",
    "#    array([[[ 2,  4,  6],\n",
    "#            [ 8, 10, 12]],\n",
    "\n",
    "#            [[ 1,  3,  5],\n",
    "#             [ 7,  9, 11]]], dtype=int32)\n",
    "#    How to access the \"array([ 5, 11], dtype=int32)\" from the above tensor? Also, extract the value 5 alone from the tensor.\n"
   ]
  }
 ],
 "metadata": {
  "kernelspec": {
   "display_name": "Python 3 (ipykernel)",
   "language": "python",
   "name": "python3"
  },
  "language_info": {
   "codemirror_mode": {
    "name": "ipython",
    "version": 3
   },
   "file_extension": ".py",
   "mimetype": "text/x-python",
   "name": "python",
   "nbconvert_exporter": "python",
   "pygments_lexer": "ipython3",
   "version": "3.8.11"
  }
 },
 "nbformat": 4,
 "nbformat_minor": 5
}
