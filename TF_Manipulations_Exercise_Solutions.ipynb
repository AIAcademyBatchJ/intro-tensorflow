{
  "nbformat": 4,
  "nbformat_minor": 0,
  "metadata": {
    "colab": {
      "name": "TF_Manipulations_Exercise_Solutions.ipynb",
      "provenance": []
    },
    "kernelspec": {
      "name": "python3",
      "display_name": "Python 3"
    },
    "language_info": {
      "name": "python"
    }
  },
  "cells": [
    {
      "cell_type": "code",
      "metadata": {
        "id": "7FfJrTBJHRVv"
      },
      "source": [
        "import tensorflow as tf\n",
        "import numpy as np\n",
        "import pandas as pd"
      ],
      "execution_count": 1,
      "outputs": []
    },
    {
      "cell_type": "code",
      "metadata": {
        "id": "6KlNjLsFM_k-"
      },
      "source": [
        "# 1. Write a pice of code to generate the following output:\n",
        "#    array([[0.,0.],\n",
        "#           [1.,1.]], dtype=float32)"
      ],
      "execution_count": 7,
      "outputs": []
    },
    {
      "cell_type": "code",
      "metadata": {
        "colab": {
          "base_uri": "https://localhost:8080/"
        },
        "id": "JaaDC4HKJ5-V",
        "outputId": "b846d33a-d5ce-45af-d44d-2f7330bcf701"
      },
      "source": [
        "c1 = tf.zeros([1,2])\n",
        "c1"
      ],
      "execution_count": 3,
      "outputs": [
        {
          "output_type": "execute_result",
          "data": {
            "text/plain": [
              "<tf.Tensor: shape=(1, 2), dtype=float32, numpy=array([[0., 0.]], dtype=float32)>"
            ]
          },
          "metadata": {},
          "execution_count": 3
        }
      ]
    },
    {
      "cell_type": "code",
      "metadata": {
        "colab": {
          "base_uri": "https://localhost:8080/"
        },
        "id": "zt3hZOUoKZo-",
        "outputId": "d97380fe-fa4d-4290-9fb7-4dd67d99f3f1"
      },
      "source": [
        "c2 = tf.ones([1,2])\n",
        "c1"
      ],
      "execution_count": 4,
      "outputs": [
        {
          "output_type": "execute_result",
          "data": {
            "text/plain": [
              "<tf.Tensor: shape=(1, 2), dtype=float32, numpy=array([[0., 0.]], dtype=float32)>"
            ]
          },
          "metadata": {},
          "execution_count": 4
        }
      ]
    },
    {
      "cell_type": "code",
      "metadata": {
        "colab": {
          "base_uri": "https://localhost:8080/"
        },
        "id": "flv3Dka-Kl28",
        "outputId": "f52ff55e-4c44-42b9-ade0-c88534163408"
      },
      "source": [
        "c3 = tf.concat([c1,c2],0)\n",
        "c3.numpy()"
      ],
      "execution_count": 6,
      "outputs": [
        {
          "output_type": "execute_result",
          "data": {
            "text/plain": [
              "array([[0., 0.],\n",
              "       [1., 1.]], dtype=float32)"
            ]
          },
          "metadata": {},
          "execution_count": 6
        }
      ]
    },
    {
      "cell_type": "code",
      "metadata": {
        "id": "jxXnBo-NM1ga"
      },
      "source": [
        "#############################################################################################"
      ],
      "execution_count": 8,
      "outputs": []
    },
    {
      "cell_type": "code",
      "metadata": {
        "id": "mLr3QffPNHUU"
      },
      "source": [
        "# 2. What is the code snippet for creating  a rank-3 tensor of ones with 3 rows and 2 columns?"
      ],
      "execution_count": 9,
      "outputs": []
    },
    {
      "cell_type": "code",
      "metadata": {
        "colab": {
          "base_uri": "https://localhost:8080/"
        },
        "id": "mmQwDr_tNyHU",
        "outputId": "b9862c15-0ce8-4192-8ed9-a471fccf356c"
      },
      "source": [
        "c4 = tf.ones([3,3,2])\n",
        "c4.numpy()"
      ],
      "execution_count": 11,
      "outputs": [
        {
          "output_type": "execute_result",
          "data": {
            "text/plain": [
              "array([[[1., 1.],\n",
              "        [1., 1.],\n",
              "        [1., 1.]],\n",
              "\n",
              "       [[1., 1.],\n",
              "        [1., 1.],\n",
              "        [1., 1.]],\n",
              "\n",
              "       [[1., 1.],\n",
              "        [1., 1.],\n",
              "        [1., 1.]]], dtype=float32)"
            ]
          },
          "metadata": {},
          "execution_count": 11
        }
      ]
    },
    {
      "cell_type": "code",
      "metadata": {
        "colab": {
          "base_uri": "https://localhost:8080/"
        },
        "id": "NVPQWUF6On0v",
        "outputId": "aa21fb83-0dd8-4a3c-ca82-6af4ff24ac9a"
      },
      "source": [
        "print(c4)"
      ],
      "execution_count": 12,
      "outputs": [
        {
          "output_type": "stream",
          "name": "stdout",
          "text": [
            "tf.Tensor(\n",
            "[[[1. 1.]\n",
            "  [1. 1.]\n",
            "  [1. 1.]]\n",
            "\n",
            " [[1. 1.]\n",
            "  [1. 1.]\n",
            "  [1. 1.]]\n",
            "\n",
            " [[1. 1.]\n",
            "  [1. 1.]\n",
            "  [1. 1.]]], shape=(3, 3, 2), dtype=float32)\n"
          ]
        }
      ]
    },
    {
      "cell_type": "code",
      "metadata": {
        "id": "Ha4otULzP343"
      },
      "source": [
        "###############################################################################################"
      ],
      "execution_count": 13,
      "outputs": []
    },
    {
      "cell_type": "code",
      "metadata": {
        "id": "A2QfwawcSziF"
      },
      "source": [
        "# 3. How will you generate the following output? Create a code snippet for the same.\n",
        "#    array([[22,34],\n",
        "#           [46,74]], dtype=int32)"
      ],
      "execution_count": 16,
      "outputs": []
    },
    {
      "cell_type": "code",
      "metadata": {
        "id": "-0qDr5XeQEjz"
      },
      "source": [
        "a = tf.constant([2,4,6,8], shape=[2,2])\n",
        "b = tf.constant([1,3,5,7], shape=[2,2])"
      ],
      "execution_count": 14,
      "outputs": []
    },
    {
      "cell_type": "code",
      "metadata": {
        "colab": {
          "base_uri": "https://localhost:8080/"
        },
        "id": "k2x3K2cVRR2A",
        "outputId": "a0abb30f-3b9e-4495-f4da-c5de91af8e8a"
      },
      "source": [
        "c = tf.matmul(a,b)\n",
        "c.numpy()"
      ],
      "execution_count": 15,
      "outputs": [
        {
          "output_type": "execute_result",
          "data": {
            "text/plain": [
              "array([[22, 34],\n",
              "       [46, 74]], dtype=int32)"
            ]
          },
          "metadata": {},
          "execution_count": 15
        }
      ]
    },
    {
      "cell_type": "code",
      "metadata": {
        "id": "Uscz-HwnRXUa"
      },
      "source": [
        "######################################################################################################"
      ],
      "execution_count": 17,
      "outputs": []
    },
    {
      "cell_type": "code",
      "metadata": {
        "id": "XoEGY9BvYnPs"
      },
      "source": [
        "# 4. Suppose you created a rank-3 tf array as follows:\n",
        "#    array([[[ 2,  4,  6],\n",
        "#            [ 8, 10, 12]],\n",
        "\n",
        "#            [[ 1,  3,  5],\n",
        "#             [ 7,  9, 11]]], dtype=int32)\n",
        "#    How to access the \"array([ 5, 11], dtype=int32)\" from the above tensor? Also, extract the value 5 alone from the tensor."
      ],
      "execution_count": 22,
      "outputs": []
    },
    {
      "cell_type": "code",
      "metadata": {
        "colab": {
          "base_uri": "https://localhost:8080/"
        },
        "id": "P7-M_qWlS3To",
        "outputId": "95f77a88-bb79-42f8-a37e-0a9ed4bbd418"
      },
      "source": [
        "tv = tf.Variable([[[2,4,6],[8,10,12]],[[1,3,5,],[7,9,11]]])\n",
        "tv.numpy()"
      ],
      "execution_count": 18,
      "outputs": [
        {
          "output_type": "execute_result",
          "data": {
            "text/plain": [
              "array([[[ 2,  4,  6],\n",
              "        [ 8, 10, 12]],\n",
              "\n",
              "       [[ 1,  3,  5],\n",
              "        [ 7,  9, 11]]], dtype=int32)"
            ]
          },
          "metadata": {},
          "execution_count": 18
        }
      ]
    },
    {
      "cell_type": "code",
      "metadata": {
        "colab": {
          "base_uri": "https://localhost:8080/"
        },
        "id": "rN2zRD1iVcaT",
        "outputId": "f944939c-5a81-47a9-9fd0-306b65242a3b"
      },
      "source": [
        "tv[1,:2,-1].numpy()"
      ],
      "execution_count": 19,
      "outputs": [
        {
          "output_type": "execute_result",
          "data": {
            "text/plain": [
              "array([ 5, 11], dtype=int32)"
            ]
          },
          "metadata": {},
          "execution_count": 19
        }
      ]
    },
    {
      "cell_type": "code",
      "metadata": {
        "colab": {
          "base_uri": "https://localhost:8080/"
        },
        "id": "VpIkxcGXVwwj",
        "outputId": "fbfd715d-5996-4885-f869-78fec91fcdde"
      },
      "source": [
        "tv[1,:,-1].numpy()"
      ],
      "execution_count": 20,
      "outputs": [
        {
          "output_type": "execute_result",
          "data": {
            "text/plain": [
              "array([ 5, 11], dtype=int32)"
            ]
          },
          "metadata": {},
          "execution_count": 20
        }
      ]
    },
    {
      "cell_type": "code",
      "metadata": {
        "colab": {
          "base_uri": "https://localhost:8080/"
        },
        "id": "7449S059WEec",
        "outputId": "d449303f-330c-48de-dbec-09696e616959"
      },
      "source": [
        "tv[1,:1,-1].numpy()"
      ],
      "execution_count": 21,
      "outputs": [
        {
          "output_type": "execute_result",
          "data": {
            "text/plain": [
              "array([5], dtype=int32)"
            ]
          },
          "metadata": {},
          "execution_count": 21
        }
      ]
    },
    {
      "cell_type": "code",
      "metadata": {
        "id": "E1JbJS5sWLe4"
      },
      "source": [
        "########################################################################################"
      ],
      "execution_count": 23,
      "outputs": []
    }
  ]
}